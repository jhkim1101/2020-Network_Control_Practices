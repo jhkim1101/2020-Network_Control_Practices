{
 "cells": [
  {
   "cell_type": "code",
   "execution_count": 1,
   "metadata": {},
   "outputs": [
    {
     "name": "stdout",
     "output_type": "stream",
     "text": [
      "Requirement already satisfied: numpy in c:\\users\\sbie\\anaconda3\\lib\\site-packages (1.16.5)\n",
      "Note: you may need to restart the kernel to use updated packages.\n"
     ]
    }
   ],
   "source": [
    "pip install numpy "
   ]
  },
  {
   "cell_type": "code",
   "execution_count": 2,
   "metadata": {},
   "outputs": [
    {
     "name": "stdout",
     "output_type": "stream",
     "text": [
      "Requirement already satisfied: tarjan in c:\\users\\sbie\\anaconda3\\lib\\site-packages (0.2.3.2)\n",
      "Note: you may need to restart the kernel to use updated packages.\n"
     ]
    }
   ],
   "source": [
    "pip install tarjan"
   ]
  },
  {
   "cell_type": "code",
   "execution_count": 6,
   "metadata": {},
   "outputs": [
    {
     "name": "stdout",
     "output_type": "stream",
     "text": [
      "Collecting FVSFinder\n",
      "Note: you may need to restart the kernel to use updated packages.\n"
     ]
    },
    {
     "name": "stderr",
     "output_type": "stream",
     "text": [
      "  ERROR: Could not find a version that satisfies the requirement FVSFinder (from versions: none)\n",
      "ERROR: No matching distribution found for FVSFinder\n"
     ]
    }
   ],
   "source": [
    "pip install FVSFinder"
   ]
  },
  {
   "cell_type": "code",
   "execution_count": 10,
   "metadata": {},
   "outputs": [],
   "source": [
    "import numpy as np\n",
    "import network as nt\n",
    "import time\n",
    "import tarjan as tj\n",
    "import itertools\n",
    "import pickle\n",
    "import math\n",
    "\n",
    "\n",
    "class FVSFinder:\n",
    "    n = 0\n",
    "    current_size = 0\n",
    "    network = None\n",
    "    nodes = []\n",
    "    single_comb = []\n",
    "    self_feedback = []\n",
    "    temp = []\n",
    "    precomb = False\n",
    "    outputfile = \"\"\n",
    "\n",
    "    def __init__(self, network_file, output_file=\"Minimal_FVSs.txt\", find_minimal_only=True, mode=\"minimal\", fvs_found=[],\n",
    "            matrix=False, xheader = False, yheader = False, threshold=3, trim=True, reverse=False, precomb=False):\n",
    "\n",
    "        # mode: minimal, checker, maxcover\n",
    "        self.network = nt.Network(network_file, matrix=matrix, xheader=xheader, yheader=yheader, threshold=threshold, trim=trim, reverse=reverse)\n",
    "        self.n = self.network.n\n",
    "        self.self_feedback = []\n",
    "        self.nodes = self.network.nodes\n",
    "        self.temp = list(np.zeros(self.n, dtype=\"int\"))\n",
    "        self.precomb = precomb\n",
    "        self.outputfile = output_file\n",
    "        if mode == \"checker\":\n",
    "            self.checker(fvs_found)\n",
    "        elif mode == \"minimal\" and find_minimal_only:\n",
    "            print(\"\\nFinding Minimal Feedback Vertex Sets\\n\")\n",
    "            self.find_minimal_fvs()\n",
    "        elif mode == \"maxcover\":\n",
    "            print(\"\\nFinding Coverage\\n\")\n",
    "            self.maxcover()\n",
    "        \"\"\"\n",
    "        else:\n",
    "            print(\"\\nFinding All Feedback Vertex Sets\\n\")\n",
    "            self.find_all_fvs()\n",
    "        \"\"\"\n",
    "        print(\"**********************************************\")\n",
    "        print(\"**************** PROCESS DONE ****************\")\n",
    "        print(\"**********************************************\\n\\n\\n\")\n",
    "\n",
    "    @staticmethod\n",
    "    def _tarjan_check(graph):\n",
    "        scc = tj.tarjan(graph)\n",
    "        for sc in scc:\n",
    "            if len(sc) > 1:\n",
    "                return True\n",
    "        return False\n",
    "\n",
    "    def maxcover(self):\n",
    "        numfeedbacks = []\n",
    "        graph = self._graph_generator(self.network.matrix)\n",
    "        scc = tj.tarjan(graph)\n",
    "        original_numfeedbacks = self._numfeedbacks(scc)\n",
    "        for i in range(self.n):\n",
    "            mod_matrix = np.delete(self.network.matrix, i, 0)\n",
    "            mod_matrix = np.delete(mod_matrix, i, 1)\n",
    "            graph = self._graph_generator(mod_matrix, n= self.n-1)\n",
    "            scc = tj.tarjan(graph)\n",
    "            numfeedbacks.append((i, self._numfeedbacks(scc)))\n",
    "\n",
    "        if not self.outputfile:\n",
    "            self.outputfile = \"maxcoverage.txt\"\n",
    "\n",
    "        out = open(\"result/\"+self.outputfile, \"w\")\n",
    "        out.write(\"Original Network has \" + str(original_numfeedbacks) + \" feedbacks.\")\n",
    "        for node, num in numfeedbacks:\n",
    "            line = \"Removal of Node \" + self.nodes[node] + \" reduces number of SCCs into \" + str(num) + \".\\n\"\n",
    "            print(line)\n",
    "            out.write(line)\n",
    "        out.close()\n",
    "\n",
    "\n",
    "    @staticmethod\n",
    "    def _numfeedbacks(sccs):\n",
    "        scc = 0\n",
    "        for element in sccs:\n",
    "            if len(element) > 1:\n",
    "                scc += 1\n",
    "        return scc\n",
    "\n",
    "    def checker(self, fvs_found):\n",
    "        before = time.time()\n",
    "        for node in fvs_found:\n",
    "            self.network.remove_node_from_network(self.network.nodes.index(node))\n",
    "        self.network.trim_none_feedback_nodes()\n",
    "        self.nodes = self.network.nodes\n",
    "        self.n = self.network.n\n",
    "        if self._tarjan_check(self._graph_generator(self.network.matrix, self.n)):\n",
    "            print(\"The Set is Not FVS\")\n",
    "        else:\n",
    "            print(\"This Set is an FVS\")\n",
    "        print(str(time.time() - before) + \" seconds spent for determination proces.\")\n",
    "\n",
    "    def find_minimal_fvs(self):\n",
    "        out = open(\"result/\" + self.outputfile, 'w')\n",
    "        before = time.time()\n",
    "        fvs, size = self._find_minimal_fvs()\n",
    "        print(\"All process Done!\")\n",
    "        print(\"Total \" + str(time.time() - before) + \" seconds spent for overall process.\\n\")\n",
    "        if not fvs:\n",
    "            print(\"No FVS exists\")\n",
    "            return\n",
    "        print(\"Size of minimal FVS is \" + str(size) + '.')\n",
    "        print(\"Total \" + str(len(fvs)) + \" minimal FVS exists.\\n\")\n",
    "        for i, fv in enumerate(fvs):\n",
    "            out.write(str(self.self_feedback + fv))\n",
    "            if i != len(fvs) - 1:\n",
    "                out.write('\\n')\n",
    "        out.close()\n",
    "\n",
    "    def _find_self_feedback(self):\n",
    "        idx = []\n",
    "        for i in range(self.n):\n",
    "            if self.network.matrix[i][i]:\n",
    "                self.self_feedback.append(self.nodes[i])\n",
    "            else:\n",
    "                idx.append(i)\n",
    "        for sf in self.self_feedback:\n",
    "            self.network.remove_node_from_network(self.network.nodes.index(sf))\n",
    "        self.network.trim_none_feedback_nodes()\n",
    "        self.n = self.network.n\n",
    "        self.nodes = self.network.nodes\n",
    "        return idx\n",
    "\n",
    "    def _find_minimal_fvs(self):\n",
    "        self._find_self_feedback()\n",
    "        fvs = []\n",
    "        before = time.time()\n",
    "\n",
    "        if self.self_feedback:\n",
    "            print(\"There are \" + str(len(self.self_feedback)) + \" self-feedback nodes on the network.\\n\\n\")\n",
    "        print(\"**********************************************\")\n",
    "        print(\"*********** Starting  Main Process ***********\")\n",
    "        print(\"**********************************************\\n\")\n",
    "        for i in range(1, self.n):\n",
    "            before_time = time.time()\n",
    "            print(\"Checking if size \" + str(i + len(self.self_feedback)) + \" FVS exists.\")\n",
    "            fvs = self._find_feedback_vertex_sets(i)\n",
    "            if fvs:\n",
    "                print(str(time.time() - before) + \" seconds spent for Finding Minimal FVS.\\n\")\n",
    "                return fvs, i + len(self.self_feedback)\n",
    "            print(\"Size \" + str(i + len(self.self_feedback)) + \" FVS Doesn't Exist.\")\n",
    "            print(str(time.time() - before_time) + \" seconds spent for this step.\\n\")\n",
    "        return fvs, 0\n",
    "\n",
    "    def _graph_generator(self, matrix, n=0):\n",
    "        graph = {}\n",
    "        if not n:\n",
    "            n = self.n\n",
    "        for i in range(n):\n",
    "            target = []\n",
    "            for j in range(n):\n",
    "                if matrix[i, j]:\n",
    "                    target.append(j)\n",
    "            graph[i] = target\n",
    "        return graph\n",
    "\n",
    "    def _is_there_cycle(self, matrix):\n",
    "        for i in range(self.n):\n",
    "            if matrix[i][i]:\n",
    "                return True\n",
    "        graph = self._graph_generator(matrix, self.n)\n",
    "        for i in range(self.n):\n",
    "            if graph[i]:\n",
    "                if self._dfs_cycle(graph, i):\n",
    "                    return True\n",
    "        return False\n",
    "\n",
    "    def _dfs_cycle(self, graph, root):\n",
    "        stack = []\n",
    "        visited = []\n",
    "        stack.append(root)\n",
    "\n",
    "        while stack:\n",
    "            top = stack.pop()\n",
    "            visited.append(top)\n",
    "            if set(visited) & set(graph[top]):\n",
    "                return self._tarjan_check(graph)\n",
    "            targets = list(set(graph[top]) - set(visited))\n",
    "            targets.sort()\n",
    "            stack.extend(targets)\n",
    "\n",
    "        return False\n",
    "\n",
    "    def _find_feedback_vertex_sets(self, i):\n",
    "        FVS = []\n",
    "        if self.precomb:\n",
    "            comb = pickle.load(\"combinations49_\" + str(i) + \".pkl\")\n",
    "            for el in comb:\n",
    "                matrix = self.network.remove_nodes(el)\n",
    "                if not self._is_there_cycle(matrix):\n",
    "                    fvs = []\n",
    "                    for idx in el:\n",
    "                        fvs.append(self.nodes[idx])\n",
    "                    FVS.append(fvs)\n",
    "            return(FVS)\n",
    "\n",
    "        for comb in itertools.combinations(range(self.n), i):\n",
    "            print(comb)\n",
    "            matrix = self.network.remove_nodes(comb)\n",
    "            if not self._is_there_cycle(matrix):\n",
    "                fvs = []\n",
    "                for idx in comb:\n",
    "                    fvs.append(self.nodes[idx])\n",
    "                FVS.append(fvs)\n",
    "        return FVS\n",
    "\n",
    "    def find_all_fvs(self):\n",
    "        print(\"********************\\n\")\n",
    "        print(\"Currently Updating This Method. Please use Old Version If you want to find All FVS.\")\n",
    "        print(\"********************\\n\")\n",
    "\n",
    "    def how_to_cite():\n",
    "        print(\"**********************************************\")\n",
    "        print(\"Please Mention Github Repository\\n   https://github.com/needleworm/fvs\\n\")\n",
    "        print(\"and its author, Byunghyun Ban (KAIST, South Korea.)\")\n",
    "        print(\"**********************************************\")\n"
   ]
  },
  {
   "cell_type": "code",
   "execution_count": 12,
   "metadata": {},
   "outputs": [
    {
     "ename": "ModuleNotFoundError",
     "evalue": "No module named 'FVSFinder'",
     "output_type": "error",
     "traceback": [
      "\u001b[1;31m---------------------------------------------------------------------------\u001b[0m",
      "\u001b[1;31mModuleNotFoundError\u001b[0m                       Traceback (most recent call last)",
      "\u001b[1;32m<ipython-input-12-5cc9b49c679b>\u001b[0m in \u001b[0;36m<module>\u001b[1;34m\u001b[0m\n\u001b[1;32m----> 1\u001b[1;33m \u001b[1;32mimport\u001b[0m \u001b[0mFVSFinder\u001b[0m \u001b[1;32mas\u001b[0m \u001b[0mfv\u001b[0m\u001b[1;33m\u001b[0m\u001b[1;33m\u001b[0m\u001b[0m\n\u001b[0m",
      "\u001b[1;31mModuleNotFoundError\u001b[0m: No module named 'FVSFinder'"
     ]
    }
   ],
   "source": [
    "import FVSFinder as fv"
   ]
  },
  {
   "cell_type": "code",
   "execution_count": 11,
   "metadata": {},
   "outputs": [
    {
     "ename": "NameError",
     "evalue": "name 'fv' is not defined",
     "output_type": "error",
     "traceback": [
      "\u001b[1;31m---------------------------------------------------------------------------\u001b[0m",
      "\u001b[1;31mNameError\u001b[0m                                 Traceback (most recent call last)",
      "\u001b[1;32m<ipython-input-11-b7c3d1cf8e9b>\u001b[0m in \u001b[0;36m<module>\u001b[1;34m\u001b[0m\n\u001b[1;32m----> 1\u001b[1;33m \u001b[0mfvs\u001b[0m \u001b[1;33m=\u001b[0m \u001b[0mfv\u001b[0m\u001b[1;33m.\u001b[0m\u001b[0mFVSFinder\u001b[0m\u001b[1;33m(\u001b[0m\u001b[0mnetwork\u001b[0m\u001b[1;33m)\u001b[0m\u001b[1;33m\u001b[0m\u001b[1;33m\u001b[0m\u001b[0m\n\u001b[0m",
      "\u001b[1;31mNameError\u001b[0m: name 'fv' is not defined"
     ]
    }
   ],
   "source": [
    "fvs = fv.FVSFinder(network)"
   ]
  },
  {
   "cell_type": "code",
   "execution_count": null,
   "metadata": {},
   "outputs": [],
   "source": []
  }
 ],
 "metadata": {
  "kernelspec": {
   "display_name": "Python 3",
   "language": "python",
   "name": "python3"
  },
  "language_info": {
   "codemirror_mode": {
    "name": "ipython",
    "version": 3
   },
   "file_extension": ".py",
   "mimetype": "text/x-python",
   "name": "python",
   "nbconvert_exporter": "python",
   "pygments_lexer": "ipython3",
   "version": "3.7.4"
  }
 },
 "nbformat": 4,
 "nbformat_minor": 2
}

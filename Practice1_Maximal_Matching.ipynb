{
 "cells": [
  {
   "cell_type": "code",
   "execution_count": 2,
   "metadata": {},
   "outputs": [],
   "source": [
    "import networkx as nx \n",
    "import matplotlib.pyplot as plt"
   ]
  },
  {
   "cell_type": "code",
   "execution_count": 3,
   "metadata": {},
   "outputs": [
    {
     "name": "stdout",
     "output_type": "stream",
     "text": [
      "Collecting package metadata (current_repodata.json): ...working... done\n",
      "Solving environment: ...working... done\n",
      "\n",
      "## Package Plan ##\n",
      "\n",
      "  environment location: C:\\Users\\sbie\\Anaconda3\n",
      "\n",
      "  added / updated specs:\n",
      "    - hopcroftkarp\n",
      "\n",
      "\n",
      "The following packages will be downloaded:\n",
      "\n",
      "    package                    |            build\n",
      "    ---------------------------|-----------------\n",
      "    conda-4.8.0                |           py37_1         3.0 MB  conda-forge\n",
      "    hopcroftkarp-1.2.4         |             py_0          20 KB  conda-forge\n",
      "    ------------------------------------------------------------\n",
      "                                           Total:         3.0 MB\n",
      "\n",
      "The following NEW packages will be INSTALLED:\n",
      "\n",
      "  hopcroftkarp       conda-forge/noarch::hopcroftkarp-1.2.4-py_0\n",
      "\n",
      "The following packages will be UPDATED:\n",
      "\n",
      "  conda                      pkgs/main::conda-4.7.12-py37_0 --> conda-forge::conda-4.8.0-py37_1\n",
      "\n",
      "\n",
      "\n",
      "Downloading and Extracting Packages\n",
      "\n",
      "hopcroftkarp-1.2.4   | 20 KB     |            |   0% \n",
      "hopcroftkarp-1.2.4   | 20 KB     | ########1  |  82% \n",
      "hopcroftkarp-1.2.4   | 20 KB     | ########## | 100% \n",
      "\n",
      "conda-4.8.0          | 3.0 MB    |            |   0% \n",
      "conda-4.8.0          | 3.0 MB    | 4          |   5% \n",
      "conda-4.8.0          | 3.0 MB    | #7         |  18% \n",
      "conda-4.8.0          | 3.0 MB    | ###1       |  31% \n",
      "conda-4.8.0          | 3.0 MB    | ####4      |  45% \n",
      "conda-4.8.0          | 3.0 MB    | #####7     |  58% \n",
      "conda-4.8.0          | 3.0 MB    | #######1   |  71% \n",
      "conda-4.8.0          | 3.0 MB    | ########5  |  85% \n",
      "conda-4.8.0          | 3.0 MB    | #########8 |  99% \n",
      "conda-4.8.0          | 3.0 MB    | ########## | 100% \n",
      "Preparing transaction: ...working... done\n",
      "Verifying transaction: ...working... done\n",
      "Executing transaction: ...working... done\n",
      "\n",
      "Note: you may need to restart the kernel to use updated packages.\n"
     ]
    },
    {
     "name": "stderr",
     "output_type": "stream",
     "text": [
      "\n",
      "\n",
      "==> WARNING: A newer version of conda exists. <==\n",
      "  current version: 4.7.12\n",
      "  latest version: 4.8.1\n",
      "\n",
      "Please update conda by running\n",
      "\n",
      "    $ conda update -n base -c defaults conda\n",
      "\n",
      "\n"
     ]
    }
   ],
   "source": [
    "conda install -c conda-forge hopcroftkarp # from hopcroftkarp import HopcroftKarp가 안되서 업뎃 했음 \n",
    "# Hopcrofkarp는 maximal matching 찾는 알고리즘임 "
   ]
  },
  {
   "cell_type": "code",
   "execution_count": 4,
   "metadata": {},
   "outputs": [
    {
     "name": "stdout",
     "output_type": "stream",
     "text": [
      "Collecting package metadata (current_repodata.json): ...working... done\n",
      "Solving environment: ...working... done\n",
      "\n",
      "## Package Plan ##\n",
      "\n",
      "  environment location: C:\\Users\\sbie\\Anaconda3\n",
      "\n",
      "  added / updated specs:\n",
      "    - conda\n",
      "\n",
      "\n",
      "The following packages will be downloaded:\n",
      "\n",
      "    package                    |            build\n",
      "    ---------------------------|-----------------\n",
      "    backports.functools_lru_cache-1.6.1|             py_0          11 KB\n",
      "    conda-4.8.1                |           py37_0         2.8 MB\n",
      "    future-0.18.2              |           py37_0         656 KB\n",
      "    ------------------------------------------------------------\n",
      "                                           Total:         3.5 MB\n",
      "\n",
      "The following packages will be UPDATED:\n",
      "\n",
      "  backports.functoo~                               1.5-py_2 --> 1.6.1-py_0\n",
      "  conda                     conda-forge::conda-4.8.0-py37_1 --> pkgs/main::conda-4.8.1-py37_0\n",
      "  future                                      0.17.1-py37_0 --> 0.18.2-py37_0\n",
      "\n",
      "\n",
      "\n",
      "Downloading and Extracting Packages\n",
      "\n",
      "future-0.18.2        | 656 KB    |            |   0% \n",
      "future-0.18.2        | 656 KB    | ##9        |  29% \n",
      "future-0.18.2        | 656 KB    | #########2 |  93% \n",
      "future-0.18.2        | 656 KB    | ########## | 100% \n",
      "\n",
      "backports.functools_ | 11 KB     |            |   0% \n",
      "backports.functools_ | 11 KB     | ########## | 100% \n",
      "\n",
      "conda-4.8.1          | 2.8 MB    |            |   0% \n",
      "conda-4.8.1          | 2.8 MB    | #2         |  13% \n",
      "conda-4.8.1          | 2.8 MB    | ##6        |  27% \n",
      "conda-4.8.1          | 2.8 MB    | ####1      |  41% \n",
      "conda-4.8.1          | 2.8 MB    | #####5     |  56% \n",
      "conda-4.8.1          | 2.8 MB    | ######9    |  70% \n",
      "conda-4.8.1          | 2.8 MB    | ########4  |  84% \n",
      "conda-4.8.1          | 2.8 MB    | #########8 |  99% \n",
      "conda-4.8.1          | 2.8 MB    | ########## | 100% \n",
      "Preparing transaction: ...working... done\n",
      "Verifying transaction: ...working... done\n",
      "Executing transaction: ...working... done\n",
      "\n",
      "Note: you may need to restart the kernel to use updated packages.\n"
     ]
    }
   ],
   "source": [
    "conda update -n base -c defaults conda"
   ]
  },
  {
   "cell_type": "code",
   "execution_count": 3,
   "metadata": {},
   "outputs": [],
   "source": [
    "from hopcroftkarp import HopcroftKarp"
   ]
  },
  {
   "cell_type": "code",
   "execution_count": 4,
   "metadata": {},
   "outputs": [],
   "source": [
    "g = nx.DiGraph() ## directed graphs with self loops \n",
    "edges = [('1', '2'),('1', '3'),('3', '4'),('3', '5'),('3','6'),('5','6'),('6', '7')]\n",
    "g.add_edges_from(edges)\n",
    "graph = {}\n",
    "for x in edges:\n",
    "    if x[0] not in graph.keys():\n",
    "        graph[x[0]] = set() \n",
    "        graph[x[0]].update(x[1])\n",
    "        # graph[x[0]] = 각 ()로 묶인 node들 중 첫번째 node 예) ('1','2'), ('1','3') 이니까 1 = (2, 3)\n",
    "        # 그 set을 같이 이루어진 node 번호를 추가해서 update 시킴 (x[1] = ()안 두번째 node number)\n",
    "    else :\n",
    "        graph[x[0]].update(x[1])"
   ]
  },
  {
   "cell_type": "code",
   "execution_count": 8,
   "metadata": {},
   "outputs": [
    {
     "name": "stdout",
     "output_type": "stream",
     "text": [
      "['3', '7', '4', '6']\n"
     ]
    }
   ],
   "source": [
    "graph2 = dict(((str(key)+'*'), value) for (key, value) in graph.items()) # bipartite graph ??\n",
    "hk = HopcroftKarp(graph2)\n",
    "max_matching = HopcroftKarp(graph2).maximum_matching()\n",
    "\n",
    "matched_nodes = []\n",
    "for value in list(max_matching.values()):\n",
    "    if value in list(g.nodes):\n",
    "        matched_nodes.append(value)\n",
    "    else :\n",
    "        continue\n",
    "\n",
    "print(matched_nodes)"
   ]
  },
  {
   "cell_type": "code",
   "execution_count": 9,
   "metadata": {},
   "outputs": [
    {
     "data": {
      "image/png": "[encoded data removed]",
      "text/plain": [
       "<Figure size 432x288 with 1 Axes>"
      ]
     },
     "metadata": {},
     "output_type": "display_data"
    }
   ],
   "source": [
    "green_nodes = matched_nodes\n",
    "node_colors = ['yellow' if not n in green_nodes else 'green' for n in g.nodes()]\n",
    "nx.draw(g,pos = nx.spring_layout(g,scale=2), node_color=node_colors, with_labels = True) # layout = spring, spectral, shell, circular, kamada_kawai, random\n",
    "plt.show()"
   ]
  },
  {
   "cell_type": "code",
   "execution_count": 10,
   "metadata": {},
   "outputs": [
    {
     "data": {
      "image/png": "[encoded data removed]",
      "text/plain": [
       "<Figure size 432x288 with 1 Axes>"
      ]
     },
     "metadata": {},
     "output_type": "display_data"
    }
   ],
   "source": [
    "green_nodes = matched_nodes\n",
    "node_colors = ['yellow' if not n in green_nodes else 'green' for n in g.nodes()]\n",
    "nx.draw(g,pos = nx.kamada_kawai_layout(g,scale=2), node_color=node_colors, with_labels = True) # layout = spring, spectral, shell, circular, kamada_kawai, random\n",
    "plt.show()"
   ]
  },
  {
   "cell_type": "code",
   "execution_count": 12,
   "metadata": {},
   "outputs": [
    {
     "name": "stdout",
     "output_type": "stream",
     "text": [
      "4\n"
     ]
    },
    {
     "data": {
      "text/plain": [
       "3"
      ]
     },
     "execution_count": 12,
     "metadata": {},
     "output_type": "execute_result"
    }
   ],
   "source": [
    "print(len(matched_nodes))\n",
    "7-len(matched_nodes)"
   ]
  },
  {
   "cell_type": "code",
   "execution_count": null,
   "metadata": {},
   "outputs": [],
   "source": []
  }
 ],
 "metadata": {
  "kernelspec": {
   "display_name": "Python 3",
   "language": "python",
   "name": "python3"
  },
  "language_info": {
   "codemirror_mode": {
    "name": "ipython",
    "version": 3
   },
   "file_extension": ".py",
   "mimetype": "text/x-python",
   "name": "python",
   "nbconvert_exporter": "python",
   "pygments_lexer": "ipython3",
   "version": "3.7.4"
  }
 },
 "nbformat": 4,
 "nbformat_minor": 2
}

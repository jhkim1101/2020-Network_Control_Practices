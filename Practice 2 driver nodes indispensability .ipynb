{
 "cells": [
  {
   "cell_type": "code",
   "execution_count": 1,
   "metadata": {},
   "outputs": [],
   "source": [
    "import networkx as nx \n",
    "import matplotlib.pyplot as plt"
   ]
  },
  {
   "cell_type": "code",
   "execution_count": 2,
   "metadata": {},
   "outputs": [
    {
     "name": "stdout",
     "output_type": "stream",
     "text": [
      "Requirement already satisfied: hopcroftkarp in c:\\users\\sbie\\anaconda3\\lib\\site-packages (1.2.4)\n",
      "Note: you may need to restart the kernel to use updated packages.\n"
     ]
    }
   ],
   "source": [
    "pip install hopcroftkarp"
   ]
  },
  {
   "cell_type": "code",
   "execution_count": 3,
   "metadata": {},
   "outputs": [],
   "source": [
    "from hopcroftkarp import HopcroftKarp"
   ]
  },
  {
   "cell_type": "markdown",
   "metadata": {},
   "source": [
    "## Indispensability confirmation \n",
    "#### Node consisting of a graph can be distinguished into three node types:Indispensable, Neutral, Dispensable node. The definition of indispensable node is that when particular node is erased, the number of driver node (nodes that have to be controlled, give inputs) is increased. Type of node that the node erase does not change number of driver node is called neutral. ???Dispensable node is called as the node erase increase the number of driver node of graph. Each node type can be figure out if each nodes are deleted one by one. "
   ]
  },
  {
   "cell_type": "code",
   "execution_count": 4,
   "metadata": {},
   "outputs": [
    {
     "name": "stderr",
     "output_type": "stream",
     "text": [
      "C:\\Users\\sbie\\Anaconda3\\lib\\site-packages\\networkx\\drawing\\nx_pylab.py:579: MatplotlibDeprecationWarning: \n",
      "The iterable function was deprecated in Matplotlib 3.1 and will be removed in 3.3. Use np.iterable instead.\n",
      "  if not cb.iterable(width):\n",
      "C:\\Users\\sbie\\Anaconda3\\lib\\site-packages\\networkx\\drawing\\nx_pylab.py:676: MatplotlibDeprecationWarning: \n",
      "The iterable function was deprecated in Matplotlib 3.1 and will be removed in 3.3. Use np.iterable instead.\n",
      "  if cb.iterable(node_size):  # many node sizes\n"
     ]
    },
    {
     "data": {
      "image/png": "[encoded data removed]",
      "text/plain": [
       "<Figure size 432x288 with 1 Axes>"
      ]
     },
     "metadata": {},
     "output_type": "display_data"
    }
   ],
   "source": [
    "g = nx.DiGraph() ## directed graphs with self loops \n",
    "edges = [('1', '2'),('1', '3'),('3', '4'),('3', '5'),('3','6'),('5','6'),('6', '7')]\n",
    "g.add_nodes_from(['1','2','3','4','5','6','7'])\n",
    "g.add_edges_from(edges)\n",
    "\n",
    "g.remove_node('2')\n",
    "\n",
    "graph = {}\n",
    "for x in g:\n",
    "    graph[x] = set(g.successors(x))\n",
    "\n",
    "# Using hopcroftkarp, find maximum_matching\n",
    "graph2 = dict(((str(key)+'*'), value) for (key, value) in graph.items())\n",
    "hk = HopcroftKarp(graph2)\n",
    "max_matching = HopcroftKarp(graph2).maximum_matching()\n",
    "\n",
    "driver_nodes = []\n",
    "for value in list(max_matching.values()):\n",
    "    if value in list(g.nodes):\n",
    "        driver_nodes.append(value)\n",
    "    else:\n",
    "        continue\n",
    "    \n",
    "# Visualization\n",
    "red_nodes = driver_nodes\n",
    "node_colors = ['blue' if not n in red_nodes else 'red' for n in g.nodes()]\n",
    "nx.draw(g,pos = nx.spring_layout(g,scale=2),node_color=node_colors,with_labels = True)\n",
    "plt.show()"
   ]
  },
  {
   "cell_type": "code",
   "execution_count": 5,
   "metadata": {},
   "outputs": [
    {
     "name": "stdout",
     "output_type": "stream",
     "text": [
      "After erasing one node, number of driver nodes is\n",
      "4\n"
     ]
    }
   ],
   "source": [
    "print(\"After erasing one node, number of driver nodes is\")\n",
    "print(len(driver_nodes))\n",
    "\n",
    "## Number of driver nodes in original graph is 4. "
   ]
  },
  {
   "cell_type": "markdown",
   "metadata": {},
   "source": [
    "## Compute number of driver nodes for every nodes (iterate)"
   ]
  },
  {
   "cell_type": "code",
   "execution_count": 36,
   "metadata": {},
   "outputs": [
    {
     "name": "stdout",
     "output_type": "stream",
     "text": [
      "['2', '3', '4', '5', '6', '7']\n",
      "['3', '4', '5', '6', '7']\n",
      "['4', '5', '6', '7']\n",
      "['5', '6', '7']\n",
      "['6', '7']\n",
      "['7']\n",
      "[]\n"
     ]
    },
    {
     "data": {
      "text/plain": [
       "\"   for x in g:\\n    graph[x] = set(g.successors(x))\\n\\n# Using hopcroftkarp, find maximum_matching\\ngraph2 = dict(((str(key)+'*'), value) for (key, value) in graph.items())\\nhk = HopcroftKarp(graph2)\\nmax_matching = HopcroftKarp(graph2).maximum_matching()\\n\\ndriver_nodes = []\\nfor value in list(max_matching.values()):\\n    if value in list(g.nodes):\\n        driver_nodes.append(value)\\n    else:\\n        continue\\n    \\n# Visualization\\nred_nodes = driver_nodes\\nnode_colors = ['blue' if not n in red_nodes else 'red' for n in g.nodes()]\\nnx.draw(g,pos = nx.spring_layout(g,scale=2),node_color=node_colors,with_labels = True)\\nplt.show()\""
      ]
     },
     "execution_count": 36,
     "metadata": {},
     "output_type": "execute_result"
    }
   ],
   "source": [
    "g = nx.DiGraph() ## directed graphs with self loops \n",
    "nodes = ['1','2','3','4','5','6','7']\n",
    "edges = [('1', '2'),('1', '3'),('3', '4'),('3', '5'),('3','6'),('5','6'),('6', '7')]\n",
    "g.add_nodes_from(['1','2','3','4','5','6','7'])\n",
    "g.add_edges_from(edges)\n",
    "#print(nodes)\n",
    "\n",
    "\n",
    "for values in nodes:\n",
    "    g.remove_node(value)\n",
    "    print(g.nodes)\n",
    "#node_colors = ['blue' for n in g.nodes()]\n",
    "#nx.draw(g, pos = nx.spring_layout(g,scale=2), node_color=node_colors, with_labels = True)\n",
    "#plt.show()\n",
    "\n",
    "'''   for x in g:\n",
    "    graph[x] = set(g.successors(x))\n",
    "\n",
    "# Using hopcroftkarp, find maximum_matching\n",
    "graph2 = dict(((str(key)+'*'), value) for (key, value) in graph.items())\n",
    "hk = HopcroftKarp(graph2)\n",
    "max_matching = HopcroftKarp(graph2).maximum_matching()\n",
    "\n",
    "driver_nodes = []\n",
    "for value in list(max_matching.values()):\n",
    "    if value in list(g.nodes):\n",
    "        driver_nodes.append(value)\n",
    "    else:\n",
    "        continue\n",
    "    \n",
    "# Visualization\n",
    "red_nodes = driver_nodes\n",
    "node_colors = ['blue' if not n in red_nodes else 'red' for n in g.nodes()]\n",
    "nx.draw(g,pos = nx.spring_layout(g,scale=2),node_color=node_colors,with_labels = True)\n",
    "plt.show()'''"
   ]
  },
  {
   "cell_type": "code",
   "execution_count": 11,
   "metadata": {},
   "outputs": [
    {
     "ename": "AttributeError",
     "evalue": "'NoneType' object has no attribute 'keys'",
     "output_type": "error",
     "traceback": [
      "\u001b[1;31m---------------------------------------------------------------------------\u001b[0m",
      "\u001b[1;31mAttributeError\u001b[0m                            Traceback (most recent call last)",
      "\u001b[1;32m<ipython-input-11-5608a4d17541>\u001b[0m in \u001b[0;36m<module>\u001b[1;34m\u001b[0m\n\u001b[0;32m      2\u001b[0m \u001b[1;32mfor\u001b[0m \u001b[0mi\u001b[0m \u001b[1;32min\u001b[0m \u001b[0mlist\u001b[0m\u001b[1;33m(\u001b[0m\u001b[0mg\u001b[0m\u001b[1;33m.\u001b[0m\u001b[0mnodes\u001b[0m\u001b[1;33m)\u001b[0m\u001b[1;33m:\u001b[0m\u001b[1;33m\u001b[0m\u001b[1;33m\u001b[0m\u001b[0m\n\u001b[0;32m      3\u001b[0m     \u001b[0mgraph3\u001b[0m \u001b[1;33m=\u001b[0m \u001b[0mg\u001b[0m\u001b[1;33m.\u001b[0m\u001b[0mremove_node\u001b[0m\u001b[1;33m(\u001b[0m\u001b[0mi\u001b[0m\u001b[1;33m)\u001b[0m\u001b[1;33m\u001b[0m\u001b[1;33m\u001b[0m\u001b[0m\n\u001b[1;32m----> 4\u001b[1;33m     \u001b[0mmax_matching\u001b[0m \u001b[1;33m=\u001b[0m \u001b[0mHopcroftKarp\u001b[0m\u001b[1;33m(\u001b[0m\u001b[0mgraph3\u001b[0m\u001b[1;33m)\u001b[0m\u001b[1;33m.\u001b[0m\u001b[0mmaximum_matching\u001b[0m\u001b[1;33m(\u001b[0m\u001b[1;33m)\u001b[0m\u001b[1;33m\u001b[0m\u001b[1;33m\u001b[0m\u001b[0m\n\u001b[0m\u001b[0;32m      5\u001b[0m     \u001b[1;32mif\u001b[0m \u001b[0mvalue\u001b[0m \u001b[1;32min\u001b[0m \u001b[0mlist\u001b[0m\u001b[1;33m(\u001b[0m\u001b[0mmax_matching\u001b[0m\u001b[1;33m.\u001b[0m\u001b[0mvalues\u001b[0m\u001b[1;33m(\u001b[0m\u001b[1;33m)\u001b[0m\u001b[1;33m)\u001b[0m\u001b[1;33m:\u001b[0m\u001b[1;33m\u001b[0m\u001b[1;33m\u001b[0m\u001b[0m\n\u001b[0;32m      6\u001b[0m         \u001b[0mmatched_nodes\u001b[0m\u001b[1;33m.\u001b[0m\u001b[0mappend\u001b[0m\u001b[1;33m(\u001b[0m\u001b[0mvalue\u001b[0m\u001b[1;33m)\u001b[0m\u001b[1;33m\u001b[0m\u001b[1;33m\u001b[0m\u001b[0m\n",
      "\u001b[1;32m~\\Anaconda3\\lib\\site-packages\\hopcroftkarp\\__init__.py\u001b[0m in \u001b[0;36m__init__\u001b[1;34m(self, graph)\u001b[0m\n\u001b[0;32m     26\u001b[0m         \u001b[0mself\u001b[0m\u001b[1;33m.\u001b[0m\u001b[0m_dfs_parent\u001b[0m \u001b[1;33m=\u001b[0m \u001b[1;33m{\u001b[0m\u001b[1;33m}\u001b[0m\u001b[1;33m\u001b[0m\u001b[1;33m\u001b[0m\u001b[0m\n\u001b[0;32m     27\u001b[0m \u001b[1;33m\u001b[0m\u001b[0m\n\u001b[1;32m---> 28\u001b[1;33m         \u001b[0mself\u001b[0m\u001b[1;33m.\u001b[0m\u001b[0m_left\u001b[0m \u001b[1;33m=\u001b[0m \u001b[0mset\u001b[0m\u001b[1;33m(\u001b[0m\u001b[0mgraph\u001b[0m\u001b[1;33m.\u001b[0m\u001b[0mkeys\u001b[0m\u001b[1;33m(\u001b[0m\u001b[1;33m)\u001b[0m\u001b[1;33m)\u001b[0m\u001b[1;33m\u001b[0m\u001b[1;33m\u001b[0m\u001b[0m\n\u001b[0m\u001b[0;32m     29\u001b[0m         \u001b[0mself\u001b[0m\u001b[1;33m.\u001b[0m\u001b[0m_right\u001b[0m \u001b[1;33m=\u001b[0m \u001b[0mset\u001b[0m\u001b[1;33m(\u001b[0m\u001b[1;33m)\u001b[0m\u001b[1;33m\u001b[0m\u001b[1;33m\u001b[0m\u001b[0m\n\u001b[0;32m     30\u001b[0m \u001b[1;33m\u001b[0m\u001b[0m\n",
      "\u001b[1;31mAttributeError\u001b[0m: 'NoneType' object has no attribute 'keys'"
     ]
    }
   ],
   "source": [
    "matched_nodes = []\n",
    "for i in list(g.nodes):\n",
    "    graph3 = g.remove_node(i)\n",
    "    max_matching = HopcroftKarp(graph3).maximum_matching()\n",
    "    if value in list(max_matching.values()):\n",
    "        matched_nodes.append(value)\n",
    "    else: \n",
    "        continue\n",
    "\n",
    "print(len(matched_nodes))"
   ]
  },
  {
   "cell_type": "code",
   "execution_count": null,
   "metadata": {},
   "outputs": [],
   "source": []
  },
  {
   "cell_type": "code",
   "execution_count": null,
   "metadata": {},
   "outputs": [],
   "source": []
  }
 ],
 "metadata": {
  "kernelspec": {
   "display_name": "Python 3",
   "language": "python",
   "name": "python3"
  },
  "language_info": {
   "codemirror_mode": {
    "name": "ipython",
    "version": 3
   },
   "file_extension": ".py",
   "mimetype": "text/x-python",
   "name": "python",
   "nbconvert_exporter": "python",
   "pygments_lexer": "ipython3",
   "version": "3.7.4"
  }
 },
 "nbformat": 4,
 "nbformat_minor": 2
}

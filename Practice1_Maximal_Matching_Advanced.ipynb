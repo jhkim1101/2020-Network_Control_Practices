{
 "cells": [
  {
   "cell_type": "code",
   "execution_count": 2,
   "metadata": {},
   "outputs": [],
   "source": [
    "import networkx as nx \n",
    "import matplotlib.pyplot as plt\n",
    "from networkx import bipartite"
   ]
  },
  {
   "cell_type": "code",
   "execution_count": 3,
   "metadata": {},
   "outputs": [
    {
     "name": "stdout",
     "output_type": "stream",
     "text": [
      "Requirement already satisfied: hopcroftkarp in c:\\users\\sbie\\anaconda3\\lib\\site-packages (1.2.4)\n",
      "Note: you may need to restart the kernel to use updated packages.\n"
     ]
    }
   ],
   "source": [
    "pip install hopcroftkarp"
   ]
  },
  {
   "cell_type": "code",
   "execution_count": 4,
   "metadata": {},
   "outputs": [
    {
     "ename": "SyntaxError",
     "evalue": "invalid syntax (<ipython-input-4-d4be32c2f5a0>, line 1)",
     "output_type": "error",
     "traceback": [
      "\u001b[1;36m  File \u001b[1;32m\"<ipython-input-4-d4be32c2f5a0>\"\u001b[1;36m, line \u001b[1;32m1\u001b[0m\n\u001b[1;33m    conda install -c conda-forge hopcroftkarp # from hopcroftkarp import HopcroftKarp가 안되서 업뎃 했음\u001b[0m\n\u001b[1;37m                ^\u001b[0m\n\u001b[1;31mSyntaxError\u001b[0m\u001b[1;31m:\u001b[0m invalid syntax\n"
     ]
    }
   ],
   "source": [
    "conda install -c conda-forge hopcroftkarp # from hopcroftkarp import HopcroftKarp가 안되서 업뎃 했음 \n",
    "# Hopcrofkarp는 maximal matching 찾는 알고리즘임 "
   ]
  },
  {
   "cell_type": "code",
   "execution_count": 4,
   "metadata": {},
   "outputs": [
    {
     "name": "stdout",
     "output_type": "stream",
     "text": [
      "Collecting package metadata (current_repodata.json): ...working... done\n",
      "Solving environment: ...working... done\n",
      "\n",
      "## Package Plan ##\n",
      "\n",
      "  environment location: C:\\Users\\sbie\\Anaconda3\n",
      "\n",
      "  added / updated specs:\n",
      "    - conda\n",
      "\n",
      "\n",
      "The following packages will be downloaded:\n",
      "\n",
      "    package                    |            build\n",
      "    ---------------------------|-----------------\n",
      "    backports.functools_lru_cache-1.6.1|             py_0          11 KB\n",
      "    conda-4.8.1                |           py37_0         2.8 MB\n",
      "    future-0.18.2              |           py37_0         656 KB\n",
      "    ------------------------------------------------------------\n",
      "                                           Total:         3.5 MB\n",
      "\n",
      "The following packages will be UPDATED:\n",
      "\n",
      "  backports.functoo~                               1.5-py_2 --> 1.6.1-py_0\n",
      "  conda                     conda-forge::conda-4.8.0-py37_1 --> pkgs/main::conda-4.8.1-py37_0\n",
      "  future                                      0.17.1-py37_0 --> 0.18.2-py37_0\n",
      "\n",
      "\n",
      "\n",
      "Downloading and Extracting Packages\n",
      "\n",
      "future-0.18.2        | 656 KB    |            |   0% \n",
      "future-0.18.2        | 656 KB    | ##9        |  29% \n",
      "future-0.18.2        | 656 KB    | #########2 |  93% \n",
      "future-0.18.2        | 656 KB    | ########## | 100% \n",
      "\n",
      "backports.functools_ | 11 KB     |            |   0% \n",
      "backports.functools_ | 11 KB     | ########## | 100% \n",
      "\n",
      "conda-4.8.1          | 2.8 MB    |            |   0% \n",
      "conda-4.8.1          | 2.8 MB    | #2         |  13% \n",
      "conda-4.8.1          | 2.8 MB    | ##6        |  27% \n",
      "conda-4.8.1          | 2.8 MB    | ####1      |  41% \n",
      "conda-4.8.1          | 2.8 MB    | #####5     |  56% \n",
      "conda-4.8.1          | 2.8 MB    | ######9    |  70% \n",
      "conda-4.8.1          | 2.8 MB    | ########4  |  84% \n",
      "conda-4.8.1          | 2.8 MB    | #########8 |  99% \n",
      "conda-4.8.1          | 2.8 MB    | ########## | 100% \n",
      "Preparing transaction: ...working... done\n",
      "Verifying transaction: ...working... done\n",
      "Executing transaction: ...working... done\n",
      "\n",
      "Note: you may need to restart the kernel to use updated packages.\n"
     ]
    }
   ],
   "source": [
    "conda update -n base -c defaults conda"
   ]
  },
  {
   "cell_type": "code",
   "execution_count": 5,
   "metadata": {},
   "outputs": [],
   "source": [
    "from hopcroftkarp import HopcroftKarp"
   ]
  },
  {
   "cell_type": "code",
   "execution_count": 6,
   "metadata": {},
   "outputs": [],
   "source": [
    "g = nx.DiGraph() ## directed graphs with self loops \n",
    "edges = [('1', '2'),('1', '3'),('3', '4'),('3', '5'),('3','6'),('5','6'),('6', '7')]\n",
    "g.add_edges_from(edges)\n",
    "graph = {}\n",
    "for x in edges:\n",
    "    if x[0] not in graph.keys():\n",
    "        graph[x[0]] = set() \n",
    "        graph[x[0]].update(x[1])\n",
    "        # graph[x[0]] = 각 ()로 묶인 node들 중 첫번째 node 예) ('1','2'), ('1','3') 이니까 1 = (2, 3)\n",
    "        # 그 set을 같이 이루어진 node 번호를 추가해서 update 시킴 (x[1] = ()안 두번째 node number)\n",
    "    else :\n",
    "        graph[x[0]].update(x[1])"
   ]
  },
  {
   "cell_type": "code",
   "execution_count": 8,
   "metadata": {},
   "outputs": [
    {
     "name": "stdout",
     "output_type": "stream",
     "text": [
      "[{'6', '2', '4', '7'}]\n"
     ]
    }
   ],
   "source": [
    "graph2 = dict(((str(key)+'*'), value) for (key, value) in graph.items()) # bipartite graph ??\n",
    "hk = HopcroftKarp(graph2)\n",
    "\n",
    "set_of_matched = set()\n",
    "matched_nodes_list=[]\n",
    "for i in range(1000):\n",
    "    max_matching = HopcroftKarp(graph2).maximum_matching()\n",
    "    matched_nodes = set()\n",
    "    for value in set(max_matching.values()):\n",
    "        if value in list(g.nodes):\n",
    "            matched_nodes.add(value)\n",
    "        else :\n",
    "            continue\n",
    "    if matched_nodes not in matched_nodes_list:\n",
    "        matched_nodes_list.append(matched_nodes)\n",
    "print(matched_nodes_list)"
   ]
  },
  {
   "cell_type": "code",
   "execution_count": 9,
   "metadata": {},
   "outputs": [
    {
     "name": "stderr",
     "output_type": "stream",
     "text": [
      "C:\\Users\\sbie\\Anaconda3\\lib\\site-packages\\networkx\\drawing\\nx_pylab.py:579: MatplotlibDeprecationWarning: \n",
      "The iterable function was deprecated in Matplotlib 3.1 and will be removed in 3.3. Use np.iterable instead.\n",
      "  if not cb.iterable(width):\n",
      "C:\\Users\\sbie\\Anaconda3\\lib\\site-packages\\networkx\\drawing\\nx_pylab.py:676: MatplotlibDeprecationWarning: \n",
      "The iterable function was deprecated in Matplotlib 3.1 and will be removed in 3.3. Use np.iterable instead.\n",
      "  if cb.iterable(node_size):  # many node sizes\n"
     ]
    },
    {
     "data": {
      "image/png": "[encoded data removed]",
      "text/plain": [
       "<Figure size 432x288 with 1 Axes>"
      ]
     },
     "metadata": {},
     "output_type": "display_data"
    }
   ],
   "source": [
    "green_nodes = matched_nodes\n",
    "node_colors = ['yellow' if not n in green_nodes else 'green' for n in g.nodes()]\n",
    "nx.draw(g,pos = nx.spring_layout(g,scale=2), node_color=node_colors, with_labels = True) # layout = spring, spectral, shell, circular, kamada_kawai, random\n",
    "plt.show()"
   ]
  },
  {
   "cell_type": "code",
   "execution_count": 10,
   "metadata": {},
   "outputs": [
    {
     "data": {
      "image/png": "[encoded data removed]",
      "text/plain": [
       "<Figure size 432x288 with 1 Axes>"
      ]
     },
     "metadata": {},
     "output_type": "display_data"
    }
   ],
   "source": [
    "green_nodes = matched_nodes\n",
    "node_colors = ['yellow' if not n in green_nodes else 'green' for n in g.nodes()]\n",
    "nx.draw(g,pos = nx.kamada_kawai_layout(g,scale=2), node_color=node_colors, with_labels = True) # layout = spring, spectral, shell, circular, kamada_kawai, random\n",
    "plt.show()"
   ]
  },
  {
   "cell_type": "markdown",
   "metadata": {},
   "source": [
    "## Practice2 : Find all maximal matching and matched nodes combination "
   ]
  },
  {
   "cell_type": "code",
   "execution_count": 23,
   "metadata": {},
   "outputs": [],
   "source": [
    "  '''directed graph, with edges in <match> pointing from set-0\n",
    "                (bipartite attribute ==0) to set-1 (bipartite attrbiute==1),\n",
    "                and the other edges in <g> but not in <matching> pointing\n",
    "                from set-1 to set-0.'''\n",
    "\n",
    "def formDirected(g, match):\n",
    "    d = nx.DiGraph()\n",
    "    \n",
    "    for ee in g.edges():\n",
    "        if ee in match or (ee[1],ee[0]) in match :\n",
    "            if g.node[ee[0]]['bipartite']==0:\n",
    "                d.add_edge(ee[0],ee[1])\n",
    "            else:\n",
    "                d.add_edge(ee[1],ee[0])\n",
    "        else:\n",
    "            if g.node[ee[0]]['bipartite']==0:\n",
    "                d.add_edge(ee[1],ee[0])\n",
    "            else:\n",
    "                d.add_edge(ee[0],ee[1])\n",
    "\n",
    "    return d\n",
    "\n",
    "'''Find all maximum matchings in an undirected bipartite graph. \n",
    "    undirected bipartite graph. Nodes are separated by their 'bipartite' attribute.\n",
    "    Return all matches -> list, each is a list of edges forming a maximum matching of g'''\n",
    "\n",
    "\n",
    "\n",
    "def enumMaximumMatching(g):\n",
    "    all_matches = []\n",
    "    match = bipartite.hopcroft_karp_matching(g)\n",
    "    match2=[]\n",
    "    for kk, vv in match.items():\n",
    "        if g.node[kk]['bipartite']==0:\n",
    "            match2.append((kk,vv))\n",
    "        match=match2\n",
    "        all_matches.append(match)\n",
    "        all_matches=enumMaximumMatchingIter(g,match,all_matches,None)\n",
    "        return all_matches\n",
    "    "
   ]
  },
  {
   "cell_type": "code",
   "execution_count": 27,
   "metadata": {},
   "outputs": [
    {
     "data": {
      "image/png": "[encoded data removed]",
      "text/plain": [
       "<Figure size 432x288 with 1 Axes>"
      ]
     },
     "metadata": {},
     "output_type": "display_data"
    },
    {
     "ename": "AmbiguousSolution",
     "evalue": "Disconnected graph: Ambiguous solution for bipartite sets.",
     "output_type": "error",
     "traceback": [
      "\u001b[1;31m---------------------------------------------------------------------------\u001b[0m",
      "\u001b[1;31mAmbiguousSolution\u001b[0m                         Traceback (most recent call last)",
      "\u001b[1;32m<ipython-input-27-807a3652296a>\u001b[0m in \u001b[0;36m<module>\u001b[1;34m\u001b[0m\n\u001b[0;32m    231\u001b[0m     \u001b[0mplotGraph\u001b[0m\u001b[1;33m(\u001b[0m\u001b[0mg\u001b[0m\u001b[1;33m)\u001b[0m\u001b[1;33m\u001b[0m\u001b[1;33m\u001b[0m\u001b[0m\n\u001b[0;32m    232\u001b[0m \u001b[1;33m\u001b[0m\u001b[0m\n\u001b[1;32m--> 233\u001b[1;33m     \u001b[0mall_matches\u001b[0m\u001b[1;33m=\u001b[0m\u001b[0menumMaximumMatching\u001b[0m\u001b[1;33m(\u001b[0m\u001b[0mg\u001b[0m\u001b[1;33m)\u001b[0m\u001b[1;33m\u001b[0m\u001b[1;33m\u001b[0m\u001b[0m\n\u001b[0m\u001b[0;32m    234\u001b[0m \u001b[1;33m\u001b[0m\u001b[0m\n\u001b[0;32m    235\u001b[0m     \u001b[1;32mfor\u001b[0m \u001b[0mmm\u001b[0m \u001b[1;32min\u001b[0m \u001b[0mall_matches\u001b[0m\u001b[1;33m:\u001b[0m\u001b[1;33m\u001b[0m\u001b[1;33m\u001b[0m\u001b[0m\n",
      "\u001b[1;32m<ipython-input-27-807a3652296a>\u001b[0m in \u001b[0;36menumMaximumMatching\u001b[1;34m(g)\u001b[0m\n\u001b[0;32m     56\u001b[0m \u001b[1;33m\u001b[0m\u001b[0m\n\u001b[0;32m     57\u001b[0m     \u001b[1;31m#----------------Find one matching M----------------\u001b[0m\u001b[1;33m\u001b[0m\u001b[1;33m\u001b[0m\u001b[1;33m\u001b[0m\u001b[0m\n\u001b[1;32m---> 58\u001b[1;33m     \u001b[0mmatch\u001b[0m\u001b[1;33m=\u001b[0m\u001b[0mbipartite\u001b[0m\u001b[1;33m.\u001b[0m\u001b[0mhopcroft_karp_matching\u001b[0m\u001b[1;33m(\u001b[0m\u001b[0mg\u001b[0m\u001b[1;33m)\u001b[0m\u001b[1;33m\u001b[0m\u001b[1;33m\u001b[0m\u001b[0m\n\u001b[0m\u001b[0;32m     59\u001b[0m \u001b[1;33m\u001b[0m\u001b[0m\n\u001b[0;32m     60\u001b[0m     \u001b[1;31m#---------------Re-orient match arcs---------------\u001b[0m\u001b[1;33m\u001b[0m\u001b[1;33m\u001b[0m\u001b[1;33m\u001b[0m\u001b[0m\n",
      "\u001b[1;32m~\\Anaconda3\\lib\\site-packages\\networkx\\algorithms\\bipartite\\matching.py\u001b[0m in \u001b[0;36mhopcroft_karp_matching\u001b[1;34m(G, top_nodes)\u001b[0m\n\u001b[0;32m    144\u001b[0m \u001b[1;33m\u001b[0m\u001b[0m\n\u001b[0;32m    145\u001b[0m     \u001b[1;31m# Initialize the \"global\" variables that maintain state during the search.\u001b[0m\u001b[1;33m\u001b[0m\u001b[1;33m\u001b[0m\u001b[1;33m\u001b[0m\u001b[0m\n\u001b[1;32m--> 146\u001b[1;33m     \u001b[0mleft\u001b[0m\u001b[1;33m,\u001b[0m \u001b[0mright\u001b[0m \u001b[1;33m=\u001b[0m \u001b[0mbipartite_sets\u001b[0m\u001b[1;33m(\u001b[0m\u001b[0mG\u001b[0m\u001b[1;33m,\u001b[0m \u001b[0mtop_nodes\u001b[0m\u001b[1;33m)\u001b[0m\u001b[1;33m\u001b[0m\u001b[1;33m\u001b[0m\u001b[0m\n\u001b[0m\u001b[0;32m    147\u001b[0m     \u001b[0mleftmatches\u001b[0m \u001b[1;33m=\u001b[0m \u001b[1;33m{\u001b[0m\u001b[0mv\u001b[0m\u001b[1;33m:\u001b[0m \u001b[1;32mNone\u001b[0m \u001b[1;32mfor\u001b[0m \u001b[0mv\u001b[0m \u001b[1;32min\u001b[0m \u001b[0mleft\u001b[0m\u001b[1;33m}\u001b[0m\u001b[1;33m\u001b[0m\u001b[1;33m\u001b[0m\u001b[0m\n\u001b[0;32m    148\u001b[0m     \u001b[0mrightmatches\u001b[0m \u001b[1;33m=\u001b[0m \u001b[1;33m{\u001b[0m\u001b[0mv\u001b[0m\u001b[1;33m:\u001b[0m \u001b[1;32mNone\u001b[0m \u001b[1;32mfor\u001b[0m \u001b[0mv\u001b[0m \u001b[1;32min\u001b[0m \u001b[0mright\u001b[0m\u001b[1;33m}\u001b[0m\u001b[1;33m\u001b[0m\u001b[1;33m\u001b[0m\u001b[0m\n",
      "\u001b[1;32m~\\Anaconda3\\lib\\site-packages\\networkx\\algorithms\\bipartite\\basic.py\u001b[0m in \u001b[0;36msets\u001b[1;34m(G, top_nodes)\u001b[0m\n\u001b[0;32m    204\u001b[0m         \u001b[1;32mif\u001b[0m \u001b[1;32mnot\u001b[0m \u001b[0mis_connected\u001b[0m\u001b[1;33m(\u001b[0m\u001b[0mG\u001b[0m\u001b[1;33m)\u001b[0m\u001b[1;33m:\u001b[0m\u001b[1;33m\u001b[0m\u001b[1;33m\u001b[0m\u001b[0m\n\u001b[0;32m    205\u001b[0m             \u001b[0mmsg\u001b[0m \u001b[1;33m=\u001b[0m \u001b[1;34m'Disconnected graph: Ambiguous solution for bipartite sets.'\u001b[0m\u001b[1;33m\u001b[0m\u001b[1;33m\u001b[0m\u001b[0m\n\u001b[1;32m--> 206\u001b[1;33m             \u001b[1;32mraise\u001b[0m \u001b[0mnx\u001b[0m\u001b[1;33m.\u001b[0m\u001b[0mAmbiguousSolution\u001b[0m\u001b[1;33m(\u001b[0m\u001b[0mmsg\u001b[0m\u001b[1;33m)\u001b[0m\u001b[1;33m\u001b[0m\u001b[1;33m\u001b[0m\u001b[0m\n\u001b[0m\u001b[0;32m    207\u001b[0m         \u001b[0mc\u001b[0m \u001b[1;33m=\u001b[0m \u001b[0mcolor\u001b[0m\u001b[1;33m(\u001b[0m\u001b[0mG\u001b[0m\u001b[1;33m)\u001b[0m\u001b[1;33m\u001b[0m\u001b[1;33m\u001b[0m\u001b[0m\n\u001b[0;32m    208\u001b[0m         \u001b[0mX\u001b[0m \u001b[1;33m=\u001b[0m \u001b[1;33m{\u001b[0m\u001b[0mn\u001b[0m \u001b[1;32mfor\u001b[0m \u001b[0mn\u001b[0m\u001b[1;33m,\u001b[0m \u001b[0mis_top\u001b[0m \u001b[1;32min\u001b[0m \u001b[0mc\u001b[0m\u001b[1;33m.\u001b[0m\u001b[0mitems\u001b[0m\u001b[1;33m(\u001b[0m\u001b[1;33m)\u001b[0m \u001b[1;32mif\u001b[0m \u001b[0mis_top\u001b[0m\u001b[1;33m}\u001b[0m\u001b[1;33m\u001b[0m\u001b[1;33m\u001b[0m\u001b[0m\n",
      "\u001b[1;31mAmbiguousSolution\u001b[0m: Disconnected graph: Ambiguous solution for bipartite sets."
     ]
    }
   ],
   "source": [
    "import networkx as nx\n",
    "from networkx import bipartite\n",
    "\n",
    "def plotGraph(graph):\n",
    "    import matplotlib.pyplot as plt\n",
    "    fig=plt.figure()\n",
    "    ax=fig.add_subplot(111)\n",
    "\n",
    "    pos=[(ii[1],ii[0]) for ii in graph.nodes()]\n",
    "    pos_dict=dict(zip(graph.nodes(),pos))\n",
    "    nx.draw(graph,pos=pos_dict,ax=ax,with_labels=True)\n",
    "    plt.show(block=False)\n",
    "    return\n",
    "\n",
    "def formDirected(g,match):\n",
    "    '''Form directed graph D from G and matching M.\n",
    "\n",
    "    <g>: undirected bipartite graph. Nodes are separated by their\n",
    "         'bipartite' attribute.\n",
    "    <match>: list of edges forming a matching of <g>. \n",
    "\n",
    "    Return <d>: directed graph, with edges in <match> pointing from set-0\n",
    "                (bipartite attribute ==0) to set-1 (bipartite attrbiute==1),\n",
    "                and the other edges in <g> but not in <matching> pointing\n",
    "                from set-1 to set-0.\n",
    "    '''\n",
    "\n",
    "    d=nx.DiGraph()\n",
    "\n",
    "    for ee in g.edges():\n",
    "        if ee in match or (ee[1],ee[0]) in match:\n",
    "            if g.node[ee[0]]['bipartite']==0:\n",
    "                d.add_edge(ee[0],ee[1])\n",
    "            else:\n",
    "                d.add_edge(ee[1],ee[0])\n",
    "        else:\n",
    "            if g.node[ee[0]]['bipartite']==0:\n",
    "                d.add_edge(ee[1],ee[0])\n",
    "            else:\n",
    "                d.add_edge(ee[0],ee[1])\n",
    "\n",
    "    return d\n",
    "\n",
    "\n",
    "def enumMaximumMatching(g):\n",
    "    '''Find all maximum matchings in an undirected bipartite graph.\n",
    "\n",
    "    <g>: undirected bipartite graph. Nodes are separated by their\n",
    "         'bipartite' attribute.\n",
    "\n",
    "    Return <all_matches>: list, each is a list of edges forming a maximum\n",
    "                          matching of <g>. \n",
    "    '''\n",
    "\n",
    "    all_matches=[]\n",
    "\n",
    "    #----------------Find one matching M----------------\n",
    "    match=bipartite.hopcroft_karp_matching(g)\n",
    "\n",
    "    #---------------Re-orient match arcs---------------\n",
    "    match2=[]\n",
    "    for kk,vv in match.items():\n",
    "        if g.node[kk]['bipartite']==0:\n",
    "            match2.append((kk,vv))\n",
    "    match=match2\n",
    "    all_matches.append(match)\n",
    "\n",
    "    #-----------------Enter recursion-----------------\n",
    "    all_matches=enumMaximumMatchingIter(g,match,all_matches,None)\n",
    "\n",
    "    return all_matches\n",
    "\n",
    "\n",
    "def enumMaximumMatchingIter(g,match,all_matches,add_e=None):\n",
    "    '''Recurively search maximum matchings.\n",
    "\n",
    "    <g>: undirected bipartite graph. Nodes are separated by their\n",
    "         'bipartite' attribute.\n",
    "    <match>: list of edges forming one maximum matching of <g>.\n",
    "    <all_matches>: list, each is a list of edges forming a maximum\n",
    "                   matching of <g>. Newly found matchings will be appended\n",
    "                   into this list.\n",
    "    <add_e>: tuple, the edge used to form subproblems. If not None,\n",
    "             will be added to each newly found matchings.\n",
    "\n",
    "    Return <all_matches>: updated list of all maximum matchings.\n",
    "    '''\n",
    "\n",
    "    #---------------Form directed graph D---------------\n",
    "    d=formDirected(g,match)\n",
    "\n",
    "    #-----------------Find cycles in D-----------------\n",
    "    cycles=list(nx.simple_cycles(d))\n",
    "\n",
    "    if len(cycles)==0:\n",
    "\n",
    "        #---------If no cycle, find a feasible path---------\n",
    "        all_uncovered=set(g.node).difference(set([ii[0] for ii in match]))\n",
    "        all_uncovered=all_uncovered.difference(set([ii[1] for ii in match]))\n",
    "        all_uncovered=list(all_uncovered)\n",
    "\n",
    "        #--------------If no path, terminiate--------------\n",
    "        if len(all_uncovered)==0:\n",
    "            return all_matches\n",
    "\n",
    "        #----------Find a length 2 feasible path----------\n",
    "        idx=0\n",
    "        uncovered=all_uncovered[idx]\n",
    "        while True:\n",
    "\n",
    "            if uncovered not in nx.isolates(g):\n",
    "                paths=nx.single_source_shortest_path(d,uncovered,cutoff=2)\n",
    "                len2paths=[vv for kk,vv in paths.items() if len(vv)==3]\n",
    "\n",
    "                if len(len2paths)>0:\n",
    "                    reversed=False\n",
    "                    break\n",
    "\n",
    "                #----------------Try reversed path----------------\n",
    "                paths_rev=nx.single_source_shortest_path(d.reverse(),uncovered,cutoff=2)\n",
    "                len2paths=[vv for kk,vv in paths_rev.items() if len(vv)==3]\n",
    "\n",
    "                if len(len2paths)>0:\n",
    "                    reversed=True\n",
    "                    break\n",
    "\n",
    "            idx+=1\n",
    "            if idx>len(all_uncovered)-1:\n",
    "                return all_matches\n",
    "\n",
    "            uncovered=all_uncovered[idx]\n",
    "\n",
    "        #-------------Create a new matching M'-------------\n",
    "        len2path=len2paths[0]\n",
    "        if reversed:\n",
    "            len2path=len2path[::-1]\n",
    "        len2path=zip(len2path[:-1],len2path[1:])\n",
    "\n",
    "        new_match=[]\n",
    "        for ee in d.edges():\n",
    "            if ee in len2path:\n",
    "                if g.node[ee[1]]['bipartite']==0:\n",
    "                    new_match.append((ee[1],ee[0]))\n",
    "            else:\n",
    "                if g.node[ee[0]]['bipartite']==0:\n",
    "                    new_match.append(ee)\n",
    "\n",
    "        if add_e is not None:\n",
    "            for ii in add_e:\n",
    "                new_match.append(ii)\n",
    "\n",
    "        all_matches.append(new_match)\n",
    "\n",
    "        #---------------------Select e---------------------\n",
    "        e=set(len2path).difference(set(match))\n",
    "        e=list(e)[0]\n",
    "\n",
    "        #-----------------Form subproblems-----------------\n",
    "        g_plus=g.copy()\n",
    "        g_minus=g.copy()\n",
    "        g_plus.remove_node(e[0])\n",
    "        g_plus.remove_node(e[1])\n",
    "\n",
    "        g_minus.remove_edge(e[0],e[1])\n",
    "\n",
    "        add_e_new=[e,]\n",
    "        if add_e is not None:\n",
    "            add_e_new.extend(add_e)\n",
    "\n",
    "        all_matches=enumMaximumMatchingIter(g_minus,match,all_matches,add_e)\n",
    "        all_matches=enumMaximumMatchingIter(g_plus,new_match,all_matches,add_e_new)\n",
    "\n",
    "    else:\n",
    "        #----------------Find a cycle in D----------------\n",
    "        cycle=cycles[0]\n",
    "        cycle.append(cycle[0])\n",
    "        cycle=zip(cycle[:-1],cycle[1:])\n",
    "\n",
    "        #-------------Create a new matching M'-------------\n",
    "        new_match=[]\n",
    "        for ee in d.edges():\n",
    "            if ee in cycle:\n",
    "                if g.node[ee[1]]['bipartite']==0:\n",
    "                    new_match.append((ee[1],ee[0]))\n",
    "            else:\n",
    "                if g.node[ee[0]]['bipartite']==0:\n",
    "                    new_match.append(ee)\n",
    "\n",
    "        if add_e is not None:\n",
    "            for ii in add_e:\n",
    "                new_match.append(ii)\n",
    "\n",
    "        all_matches.append(new_match)\n",
    "\n",
    "        #-----------------Choose an edge E-----------------\n",
    "        e=set(match).intersection(set(cycle))\n",
    "        e=list(e)[0]\n",
    "\n",
    "        #-----------------Form subproblems-----------------\n",
    "        g_plus=g.copy()\n",
    "        g_minus=g.copy()\n",
    "        g_plus.remove_node(e[0])\n",
    "        g_plus.remove_node(e[1])\n",
    "        g_minus.remove_edge(e[0],e[1])\n",
    "\n",
    "        add_e_new=[e,]\n",
    "        if add_e is not None:\n",
    "            add_e_new.extend(add_e)\n",
    "\n",
    "        all_matches=enumMaximumMatchingIter(g_plus,match,all_matches,add_e_new)\n",
    "        all_matches=enumMaximumMatchingIter(g_minus,new_match,all_matches,add_e)\n",
    "\n",
    "    return all_matches\n",
    "\n",
    "if __name__=='__main__':\n",
    "    g=nx.Graph()\n",
    "    edges=[\n",
    "            [(1,2), (0,1)],\n",
    "            [(1,3), (0,1)],\n",
    "            [(1,4), (0,3)],\n",
    "            [(1,5), (0,3)],\n",
    "            [(1,6), (0,3)],\n",
    "            [(1,6), (0,5)],\n",
    "            [(1,7), (0,6)]]\n",
    "\n",
    "    for ii in edges:\n",
    "        g.add_node(ii[0],bipartite=0)\n",
    "        g.add_node(ii[1],bipartite=1)\n",
    "\n",
    "    g.add_edges_from(edges)\n",
    "    plotGraph(g)\n",
    "\n",
    "    all_matches=enumMaximumMatching(g)\n",
    "\n",
    "    for mm in all_matches:\n",
    "        g_match=nx.Graph()\n",
    "        for ii in mm:\n",
    "            g_match.add_edge(ii[0],ii[1])\n",
    "        plotGraph(g_match)"
   ]
  },
  {
   "cell_type": "code",
   "execution_count": null,
   "metadata": {},
   "outputs": [],
   "source": []
  }
 ],
 "metadata": {
  "kernelspec": {
   "display_name": "Python 3",
   "language": "python",
   "name": "python3"
  },
  "language_info": {
   "codemirror_mode": {
    "name": "ipython",
    "version": 3
   },
   "file_extension": ".py",
   "mimetype": "text/x-python",
   "name": "python",
   "nbconvert_exporter": "python",
   "pygments_lexer": "ipython3",
   "version": "3.7.4"
  }
 },
 "nbformat": 4,
 "nbformat_minor": 2
}
